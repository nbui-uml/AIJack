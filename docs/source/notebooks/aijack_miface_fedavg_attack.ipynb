{
 "cells": [
  {
   "cell_type": "markdown",
   "metadata": {},
   "source": [
    "# MI-Face Attack on FedAVG"
   ]
  },
  {
   "cell_type": "code",
   "execution_count": 1,
   "metadata": {},
   "outputs": [
    {
     "name": "stdout",
     "output_type": "stream",
     "text": [
      "C:/Users/nbui2/Documents/GitHub/AIJack/src\n"
     ]
    }
   ],
   "source": [
    "import sys\n",
    "import os\n",
    "from dotenv import load_dotenv\n",
    "\n",
    "load_dotenv()\n",
    "print(os.getenv('PYTHONPATH'))\n",
    "sys.path.append(os.getenv('PYTHONPATH'))"
   ]
  },
  {
   "cell_type": "code",
   "execution_count": 1,
   "metadata": {},
   "outputs": [],
   "source": [
    "import random\n",
    "\n",
    "import numpy as np\n",
    "import torch\n",
    "import torch.nn as nn\n",
    "import torch.nn.functional as F\n",
    "import torch.optim as optim\n",
    "from mpi4py import MPI  # Using MPI requires MPI command to be installed\n",
    "from torchvision import datasets, transforms\n",
    "\n",
    "from aijack.attack.inversion import MIFaceFedAVGClient\n",
    "from aijack.collaborative.fedavg import FedAVGAPI, FedAVGClient, FedAVGServer\n",
    "\n",
    "\n",
    "def evaluate_gloal_model(dataloader, client_id=-1):\n",
    "    def _evaluate_global_model(api):\n",
    "        test_loss = 0\n",
    "        correct = 0\n",
    "        with torch.no_grad():\n",
    "            for data, target in dataloader:\n",
    "                data, target = data.to(api.device), target.to(api.device)\n",
    "                if client_id == -1:\n",
    "                    output = api.server(data)\n",
    "                else:\n",
    "                    output = api.clients[client_id](data)\n",
    "                test_loss += F.nll_loss(\n",
    "                    output, target, reduction=\"sum\"\n",
    "                ).item()  # sum up batch loss\n",
    "                pred = output.argmax(\n",
    "                    dim=1, keepdim=True\n",
    "                )  # get the index of the max log-probability\n",
    "                correct += pred.eq(target.view_as(pred)).sum().item()\n",
    "\n",
    "        test_loss /= len(dataloader.dataset)\n",
    "        accuracy = 100.0 * correct / len(dataloader.dataset)\n",
    "        print(f\"Test set: Average loss: {test_loss}, Accuracy: {accuracy}\")\n",
    "\n",
    "    return _evaluate_global_model"
   ]
  },
  {
   "cell_type": "code",
   "execution_count": 2,
   "metadata": {},
   "outputs": [],
   "source": [
    "training_batch_size = 64\n",
    "test_batch_size = 64\n",
    "num_rounds = 5\n",
    "lr = 0.001\n",
    "seed = 0\n",
    "client_size = 3\n",
    "criterion = F.nll_loss"
   ]
  },
  {
   "cell_type": "code",
   "execution_count": 4,
   "metadata": {},
   "outputs": [],
   "source": [
    "def fix_seed(seed):\n",
    "    random.seed(seed)\n",
    "    np.random.seed(seed)\n",
    "    torch.manual_seed(seed)\n",
    "    torch.cuda.manual_seed_all(seed)\n",
    "    torch.backends.cudnn.deterministic = True\n",
    "\n",
    "\n",
    "def prepare_dataloader(num_clients, myid, train=True, path=\"\"):\n",
    "    transform = transforms.Compose(\n",
    "        [transforms.ToTensor(), transforms.Normalize((0.1307,), (0.3081,))]\n",
    "    )\n",
    "    if train:\n",
    "        dataset = datasets.MNIST(path, train=True, download=True, transform=transform)\n",
    "        idxs = list(range(len(dataset.data)))\n",
    "        random.shuffle(idxs)\n",
    "        idx = np.array_split(idxs, num_clients, 0)[myid - 1]\n",
    "        dataset.data = dataset.data[idx]\n",
    "        dataset.targets = dataset.targets[idx]\n",
    "        train_loader = torch.utils.data.DataLoader(\n",
    "            dataset, batch_size=training_batch_size\n",
    "        )\n",
    "        return train_loader\n",
    "    else:\n",
    "        dataset = datasets.MNIST(path, train=False, download=True, transform=transform)\n",
    "        test_loader = torch.utils.data.DataLoader(dataset, batch_size=test_batch_size)\n",
    "        return test_loader\n",
    "\n",
    "\n",
    "class Net(nn.Module):\n",
    "    def __init__(self):\n",
    "        super(Net, self).__init__()\n",
    "        self.ln = nn.Linear(28 * 28, 10)\n",
    "\n",
    "    def forward(self, x):\n",
    "        x = self.ln(x.reshape(-1, 28 * 28))\n",
    "        output = F.log_softmax(x, dim=1)\n",
    "        return output"
   ]
  },
  {
   "cell_type": "code",
   "execution_count": 5,
   "metadata": {},
   "outputs": [],
   "source": [
    "device = torch.device(\"cuda\" if torch.cuda.is_available() else \"cpu\")\n",
    "fix_seed(seed)"
   ]
  },
  {
   "cell_type": "code",
   "execution_count": 6,
   "metadata": {},
   "outputs": [],
   "source": [
    "%%capture\n",
    "\n",
    "local_dataloaders = [prepare_dataloader(client_size, c) for c in range(client_size)]\n",
    "test_dataloader = prepare_dataloader(client_size, -1, train=False)"
   ]
  },
  {
   "cell_type": "code",
   "execution_count": 7,
   "metadata": {},
   "outputs": [
    {
     "name": "stdout",
     "output_type": "stream",
     "text": [
      "Test set: Average loss: 0.9437595328330993, Accuracy: 81.35\n",
      "Test set: Average loss: 0.6854188568115235, Accuracy: 85.11\n",
      "Test set: Average loss: 0.5824775038719178, Accuracy: 86.44\n",
      "Test set: Average loss: 0.5257955277442932, Accuracy: 87.3\n",
      "Test set: Average loss: 0.4892599359035492, Accuracy: 87.79\n"
     ]
    }
   ],
   "source": [
    "clients = [FedAVGClient(Net().to(device), user_id=c, device=device) for c in range(client_size)]\n",
    "local_optimizers = [optim.SGD(client.parameters(), lr=lr) for client in clients]\n",
    "\n",
    "server = FedAVGServer(clients, Net().to(device))\n",
    "\n",
    "api = FedAVGAPI(\n",
    "    server,\n",
    "    clients,\n",
    "    criterion,\n",
    "    local_optimizers,\n",
    "    local_dataloaders,\n",
    "    num_communication=num_rounds,\n",
    "    custom_action=evaluate_gloal_model(test_dataloader),\n",
    "    device=device\n",
    ")\n",
    "api.run()"
   ]
  },
  {
   "cell_type": "code",
   "execution_count": null,
   "metadata": {},
   "outputs": [],
   "source": [
    "from aijack.attack.inversion import MI_FACE\n",
    "malicious_client = MIFaceFedAVGClient(Net().to(device), user_id=0, device=device)\n",
    "miface = MI_FACE()\n",
    "malicious_client.attach_mi_face()"
   ]
  }
 ],
 "metadata": {
  "kernelspec": {
   "display_name": "Python 3",
   "language": "python",
   "name": "python3"
  },
  "language_info": {
   "codemirror_mode": {
    "name": "ipython",
    "version": 3
   },
   "file_extension": ".py",
   "mimetype": "text/x-python",
   "name": "python",
   "nbconvert_exporter": "python",
   "pygments_lexer": "ipython3",
   "version": "3.10.12"
  }
 },
 "nbformat": 4,
 "nbformat_minor": 2
}

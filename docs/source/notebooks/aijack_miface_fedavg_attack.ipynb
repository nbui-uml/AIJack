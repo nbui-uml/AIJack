{
 "cells": [
  {
   "cell_type": "markdown",
   "metadata": {},
   "source": [
    "# MI-Face Attack on FedAVG"
   ]
  },
  {
   "cell_type": "code",
   "execution_count": null,
   "metadata": {},
   "outputs": [],
   "source": [
    "import random\n",
    "import pickle\n",
    "\n",
    "import numpy as np\n",
    "import matplotlib.pyplot as plt\n",
    "from skimage.metrics import structural_similarity as ssim\n",
    "import torch\n",
    "import torch.nn as nn\n",
    "import torch.nn.functional as F\n",
    "import torch.optim as optim\n",
    "from torchvision import datasets, transforms\n",
    "from mpi4py import MPI  # Using MPI requires MPI command to be installed\n",
    "\n",
    "from aijack.attack.inversion import MI_FACE\n",
    "from aijack.attack.inversion import MIFaceFedAVGClient\n",
    "from aijack.collaborative.fedavg import FedAVGAPI, FedAVGClient, FedAVGServer\n",
    "\n",
    "\n",
    "def evaluate_global_model(dataloader, client_id=-1):\n",
    "    def _evaluate_global_model(api):\n",
    "        test_loss = 0\n",
    "        correct = 0\n",
    "        with torch.no_grad():\n",
    "            for data, target in dataloader:\n",
    "                data, target = data.to(api.device), target.to(api.device)\n",
    "                if client_id == -1:\n",
    "                    output = api.server(data)\n",
    "                else:\n",
    "                    output = api.clients[client_id](data)\n",
    "                test_loss += F.nll_loss(\n",
    "                    output, target, reduction=\"sum\"\n",
    "                ).item()  # sum up batch loss\n",
    "                pred = output.argmax(\n",
    "                    dim=1, keepdim=True\n",
    "                )  # get the index of the max log-probability\n",
    "                correct += pred.eq(target.view_as(pred)).sum().item()\n",
    "\n",
    "        test_loss /= len(dataloader.dataset)\n",
    "        accuracy = 100.0 * correct / len(dataloader.dataset)\n",
    "        print(f\"Test set: Average loss: {test_loss}, Accuracy: {accuracy}\")\n",
    "\n",
    "    return _evaluate_global_model"
   ]
  },
  {
   "cell_type": "code",
   "execution_count": null,
   "metadata": {},
   "outputs": [],
   "source": [
    "training_batch_size = 64\n",
    "test_batch_size = 64\n",
    "num_rounds = 50\n",
    "lr = 0.001\n",
    "seed = 0\n",
    "client_size = 3\n",
    "criterion = F.nll_loss"
   ]
  },
  {
   "cell_type": "code",
   "execution_count": null,
   "metadata": {},
   "outputs": [],
   "source": [
    "def fix_seed(seed):\n",
    "    random.seed(seed)\n",
    "    np.random.seed(seed)\n",
    "    torch.manual_seed(seed)\n",
    "    torch.cuda.manual_seed_all(seed)\n",
    "    torch.backends.cudnn.deterministic = True\n",
    "\n",
    "\n",
    "def prepare_dataloader(num_clients, myid, train=True, path=\"\"):\n",
    "    transform = transforms.Compose(\n",
    "        [transforms.ToTensor(), transforms.Normalize((0.1307,), (0.3081,))]\n",
    "    )\n",
    "    if train:\n",
    "        dataset = datasets.MNIST(path, train=True, download=True, transform=transform)\n",
    "        idxs = list(range(len(dataset.data)))\n",
    "        random.shuffle(idxs)\n",
    "        idx = np.array_split(idxs, num_clients, 0)[myid - 1]\n",
    "        dataset.data = dataset.data[idx]\n",
    "        dataset.targets = dataset.targets[idx]\n",
    "        train_loader = torch.utils.data.DataLoader(\n",
    "            dataset, batch_size=training_batch_size\n",
    "        )\n",
    "        return train_loader\n",
    "    else:\n",
    "        dataset = datasets.MNIST(path, train=False, download=True, transform=transform)\n",
    "        test_loader = torch.utils.data.DataLoader(dataset, batch_size=test_batch_size)\n",
    "        return test_loader\n",
    "\n",
    "\n",
    "class Net(nn.Module):\n",
    "    def __init__(self):\n",
    "        super(Net, self).__init__()\n",
    "        self.ln = nn.Linear(28 * 28, 10)\n",
    "\n",
    "    def forward(self, x):\n",
    "        x = self.ln(x.reshape(-1, 28 * 28))\n",
    "        output = F.log_softmax(x, dim=1)\n",
    "        return output"
   ]
  },
  {
   "cell_type": "code",
   "execution_count": null,
   "metadata": {},
   "outputs": [],
   "source": [
    "device = torch.device(\"cuda\" if torch.cuda.is_available() else \"cpu\")\n",
    "fix_seed(seed)"
   ]
  },
  {
   "cell_type": "code",
   "execution_count": null,
   "metadata": {},
   "outputs": [],
   "source": [
    "local_dataloaders = [prepare_dataloader(client_size, c) for c in range(client_size)]\n",
    "test_dataloader = prepare_dataloader(client_size, -1, train=False)"
   ]
  },
  {
   "cell_type": "code",
   "execution_count": null,
   "metadata": {},
   "outputs": [],
   "source": [
    "MI_OUTPUT_FN = \"out/mi_face.pk\""
   ]
  },
  {
   "cell_type": "code",
   "execution_count": null,
   "metadata": {},
   "outputs": [],
   "source": [
    "malicious_client = MIFaceFedAVGClient(Net().to(device), user_id=0, device=device)\n",
    "malicious_client.attach_mi_face(\n",
    "    MI_OUTPUT_FN,\n",
    "    start_epoch=10,\n",
    "    num_atk=5,\n",
    "    atk_interval=10,\n",
    "    target_label=3,\n",
    "    input_shape=(1, 1, 28, 28),\n",
    "    gamma=0.9\n",
    ")\n",
    "\n",
    "clients = [malicious_client]\n",
    "for c in range(1, client_size):\n",
    "    clients.append(FedAVGClient(Net().to(device), user_id=c, device=device))\n",
    "local_optimizers = [optim.SGD(client.parameters(), lr=lr) for client in clients]\n",
    "\n",
    "server = FedAVGServer(clients, Net().to(device))\n",
    "\n",
    "api = FedAVGAPI(\n",
    "    server,\n",
    "    clients,\n",
    "    criterion,\n",
    "    local_optimizers,\n",
    "    local_dataloaders,\n",
    "    num_communication=num_rounds,\n",
    "    custom_action=evaluate_global_model(test_dataloader),\n",
    "    device=device,\n",
    ")\n",
    "\n",
    "api.run()"
   ]
  },
  {
   "cell_type": "code",
   "execution_count": null,
   "metadata": {},
   "outputs": [],
   "source": [
    "with open(MI_OUTPUT_FN, \"rb\") as fin:\n",
    "    mi_log = pickle.load(fin)"
   ]
  },
  {
   "cell_type": "code",
   "execution_count": null,
   "metadata": {},
   "outputs": [],
   "source": [
    "num_entries = len(mi_log)\n",
    "fig, axes = plt.subplots(nrows=1, ncols=num_entries, figsize=(2 * num_entries, 2))\n",
    "for i in range(num_entries):\n",
    "    rec_im = torch.Tensor.cpu(mi_log[i].im[0][0].detach()).numpy()\n",
    "    axes[i].imshow(rec_im, cmap='gray')\n",
    "    axes[i].set_title(f\"Attack at epoch {mi_log[i].epoch}\\nCost {mi_log[i].c:.3f}\")\n",
    "    axes[i].axis('off')\n",
    "\n",
    "# Find way to figure out what image in the training set this picture references\n",
    "# Find way to guarantee that the attack will avoid images belonging to the dataset of the malicious client\n",
    "#   Trivial solution would be to not have the malicious client engage in training at all."
   ]
  },
  {
   "cell_type": "code",
   "execution_count": null,
   "metadata": {},
   "outputs": [],
   "source": [
    "miface = MI_FACE(\n",
    "    malicious_client.model,\n",
    "    lam=0.1,\n",
    "    num_itr=1000,\n",
    "    beta=100,\n",
    "    apply_softmax=True,\n",
    "    device=device,\n",
    "    target_label=6,\n",
    "    input_shape=(1, 1, 28, 28),\n",
    "    gamma=0.1\n",
    ")\n",
    "im, log = miface.attack()\n",
    "im2, log2 = miface.blackbox_attack()"
   ]
  },
  {
   "cell_type": "code",
   "execution_count": null,
   "metadata": {},
   "outputs": [],
   "source": [
    "plt.imshow(torch.Tensor.cpu(im).detach().numpy()[0][0], cmap='gray')\n",
    "print(min(log))\n",
    "print(len(log))\n",
    "\n"
   ]
  },
  {
   "cell_type": "code",
   "execution_count": null,
   "metadata": {},
   "outputs": [],
   "source": [
    "plt.imshow(torch.Tensor.cpu(im2).detach().numpy()[0][0], cmap='gray')\n",
    "print(min(log2))\n",
    "print(len(log2))"
   ]
  },
  {
   "cell_type": "code",
   "execution_count": null,
   "metadata": {},
   "outputs": [],
   "source": [
    "# Ignore the first dataloader because it belongs to malicious client\n",
    "# We want to compare with images outside of our dataset\n",
    "images_by_label = []\n",
    "for i in range(1, len(local_dataloaders)):\n",
    "    loader = local_dataloaders[i]\n",
    "    for data, labels in local_dataloaders[i]:\n",
    "        plt.imshow(data[0][0], cmap='gray')\n",
    "        print(labels)\n",
    "        break\n",
    "    break\n"
   ]
  }
 ],
 "metadata": {
  "language_info": {
   "name": "python"
  }
 },
 "nbformat": 4,
 "nbformat_minor": 2
}
